{
 "cells": [
  {
   "cell_type": "code",
   "execution_count": null,
   "id": "0e16b4e3",
   "metadata": {},
   "outputs": [],
   "source": [
    "import pandas as pd\n",
    "df = pd.read_csv('cs103a/data/courses.csv')\n",
    "df = df.to_dict('records')\n",
    "\n",
    "def find_inst():\n",
    "    val = input(\"Enter the name of a faculty member: \")\n",
    "    temp = my_list = []\n",
    "    for i in range(len(df)):\n",
    "        if df[i]['inst'] == val:\n",
    "            print(df[i]['title'])\n",
    "            \n",
    "find_inst()"
   ]
  },
  {
   "cell_type": "code",
   "execution_count": null,
   "id": "bf239c5c",
   "metadata": {},
   "outputs": [],
   "source": []
  }
 ],
 "metadata": {
  "kernelspec": {
   "display_name": "Python 3 (ipykernel)",
   "language": "python",
   "name": "python3"
  },
  "language_info": {
   "codemirror_mode": {
    "name": "ipython",
    "version": 3
   },
   "file_extension": ".py",
   "mimetype": "text/x-python",
   "name": "python",
   "nbconvert_exporter": "python",
   "pygments_lexer": "ipython3",
   "version": "3.9.7"
  }
 },
 "nbformat": 4,
 "nbformat_minor": 5
}
